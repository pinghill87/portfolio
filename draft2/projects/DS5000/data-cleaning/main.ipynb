{
 "cells": [
  {
   "cell_type": "markdown",
   "metadata": {},
   "source": [
    "---\n",
    "title: \"Data Cleaning\"\n",
    "format:\n",
    "    html:\n",
    "        code-fold: true\n",
    "execute:\n",
    "    echo: true      # Show the code (to fold it)\n",
    "    eval: true      # Run the code cells during render\n",
    "    output: true    # Ensure outputs are included\n",
    "---\n"
   ]
  },
  {
   "cell_type": "markdown",
   "metadata": {},
   "source": [
    "\n",
    "## Introduction\n",
    "\n",
    "Data cleaning is the next step in processing data into actionable insights. Data cleaning involves removing NaNs, removing outliers, renaming columns, and applying transformations. Without performing such actions, we would not be able to draw any conclusions from our data as we will be analyzing inconsistent and incompatible data. My goal for data cleaning was to make sure my data had consistent, easy to read column names and row values, consistently formatted data, and standardization.\n",
    "\n",
    "### Standardization\n",
    "\n",
    "Standardizaiton, also known as Z-Score Normalization is needed when a distribution is going to be used in a K-Means clustering, PCA, or , as it minimizes the amount of bias larger features get. Z-Score Standardization alters the data set so each variable will have a mean of 0, and a standard deviation of 1. This is done by subtracting the mean by every data point, and dividing by the standard deviation. After this process, data is ready to be further analyzed in clustering and dimensional reduction. \n",
    "\n",
    "$$z = \\frac{x - \\mu}{\\sigma}$$\n",
    " \n",
    "##  Data Cleaning: Census Data \n",
    "\n",
    "After obtaining the data for census_df, it was time to clean. The first thing I did was check for NA values, and found there were none. Next, I chose to perform column mapping on my dataset, as the current columns were code names such as K202801_004E and were confusing to understand. After cleaning the column names, the next step in data cleaning was to fix the state column. Currently this held the state FIPS identifier, with 1 for Alabama, 2 for Alaska, etc. I chose to map each FIPS code to the state name for easier identification and interpretability. "
   ]
  },
  {
   "cell_type": "code",
   "execution_count": 1,
   "metadata": {},
   "outputs": [],
   "source": [
    "import pandas as pd\n",
    "\n",
    "census_df = pd.read_csv('../../data/raw-data/census_raw_data.csv') \n"
   ]
  },
  {
   "cell_type": "code",
   "execution_count": 2,
   "metadata": {},
   "outputs": [],
   "source": [
    "column_mapping = {\n",
    "    \"K200101_001E\": \"Total_Population\",\n",
    "    \"K200201_002E\": \"White\",\n",
    "    \"K200201_003E\": \"African_American\",\n",
    "    \"K200201_005E\": \"Asian\",\n",
    "    \"K200201_004E\": \"American_Indian_and_Alaska_Native\",\n",
    "    \"K200201_006E\": \"Native_Hawaiian_and_Pacific_Islander\",\n",
    "    \"K202101_002E\": \"Veterans\",\n",
    "    \"K202101_006E\": \"Nonveterans\",\n",
    "    \"K201701_002E\": \"Below_Poverty_Level\",\n",
    "    \"K201902_001E\": \"Median_Household_Income\",\n",
    "    \"K201501_004E\": \"High_School_Graduate\",\n",
    "    \"K201501_007E\": \"Bachelors_Degree_or_Higher\",\n",
    "    \"K202801_002E\": \"Households_with_Computers\",\n",
    "    \"K202801_004E\": \"Households_with_Internet\",\n",
    "    \"K200103_001E\": \"Median_Age\",\n",
    "    \"NAME\": \"District_Name\", \n",
    "    \"congressional district\": \"Congressional_District\"\n",
    "}\n",
    "\n",
    "census_df.rename(columns=column_mapping, inplace=True)\n",
    "\n",
    "fips_to_state = {\n",
    "    1: \"Alabama\",\n",
    "    2: \"Alaska\",\n",
    "    4: \"Arizona\",\n",
    "    5: \"Arkansas\",\n",
    "    6: \"California\",\n",
    "    8: \"Colorado\",\n",
    "    9: \"Connecticut\",\n",
    "    10: \"Delaware\",\n",
    "    11: \"District of Columbia\",\n",
    "    12: \"Florida\",\n",
    "    13: \"Georgia\",\n",
    "    15: \"Hawaii\",\n",
    "    16: \"Idaho\",\n",
    "    17: \"Illinois\",\n",
    "    18: \"Indiana\",\n",
    "    19: \"Iowa\",\n",
    "    20: \"Kansas\",\n",
    "    21: \"Kentucky\",\n",
    "    22: \"Louisiana\",\n",
    "    23: \"Maine\",\n",
    "    24: \"Maryland\",\n",
    "    25: \"Massachusetts\",\n",
    "    26: \"Michigan\",\n",
    "    27: \"Minnesota\",\n",
    "    28: \"Mississippi\",\n",
    "    29: \"Missouri\",\n",
    "    30: \"Montana\",\n",
    "    31: \"Nebraska\",\n",
    "    32: \"Nevada\",\n",
    "    33: \"New Hampshire\",\n",
    "    34: \"New Jersey\",\n",
    "    35: \"New Mexico\",\n",
    "    36: \"New York\",\n",
    "    37: \"North Carolina\",\n",
    "    38: \"North Dakota\",\n",
    "    39: \"Ohio\",\n",
    "    40: \"Oklahoma\",\n",
    "    41: \"Oregon\",\n",
    "    42: \"Pennsylvania\",\n",
    "    44: \"Rhode Island\",\n",
    "    45: \"South Carolina\",\n",
    "    46: \"South Dakota\",\n",
    "    47: \"Tennessee\",\n",
    "    48: \"Texas\",\n",
    "    49: \"Utah\",\n",
    "    50: \"Vermont\",\n",
    "    51: \"Virginia\",\n",
    "    53: \"Washington\",\n",
    "    54: \"West Virginia\",\n",
    "    55: \"Wisconsin\",\n",
    "    56: \"Wyoming\",\n",
    "    60: \"American Samoa\",\n",
    "    66: \"Guam\",\n",
    "    69: \"Northern Mariana Islands\",\n",
    "    72: \"Puerto Rico\",\n",
    "    78: \"Virgin Islands\"\n",
    "}\n",
    "# Assuming your dataset has a 'FIPS' column\n",
    "census_df['state'] = census_df['state'].map(fips_to_state)\n",
    "\n",
    "# Drop specific columns by name\n",
    "columns_to_drop = ['District_Name']  \n",
    "census_df = census_df.drop(columns=columns_to_drop)"
   ]
  },
  {
   "cell_type": "markdown",
   "metadata": {},
   "source": [
    "## Census DataFrame First 5 Rows"
   ]
  },
  {
   "cell_type": "code",
   "execution_count": 3,
   "metadata": {},
   "outputs": [
    {
     "name": "stdout",
     "output_type": "stream",
     "text": [
      "   Total_Population  African_American   White  Asian  Veterans  Nonveterans  \\\n",
      "0            715346            196891  479949  10627     51744       499929   \n",
      "1            708409            183949  490987  13049     51572       500213   \n",
      "2            725634            130913  539903  12215     55771       510612   \n",
      "3            686297             51171  591084   3072     39104       491300   \n",
      "4            660468            416885  221541   5007     33737       481571   \n",
      "\n",
      "   Below_Poverty_Level  Median_Household_Income  High_School_Graduate  \\\n",
      "0               118962                    46445                163604   \n",
      "1               124289                    45832                150206   \n",
      "2                91640                    57174                135017   \n",
      "3               119113                    45387                158561   \n",
      "4               156399                    37123                146697   \n",
      "\n",
      "   Bachelors_Degree_or_Higher  Households_with_Computers  \\\n",
      "0                       79243                     239264   \n",
      "1                       61435                     233058   \n",
      "2                      108527                     262575   \n",
      "3                       51598                     217239   \n",
      "4                       56008                     203824   \n",
      "\n",
      "   Households_with_Internet  American_Indian_and_Alaska_Native  \\\n",
      "0                    209561                               6992   \n",
      "1                    204349                               1300   \n",
      "2                    240933                               3123   \n",
      "3                    194848                               4391   \n",
      "4                    179334                               1907   \n",
      "\n",
      "   Native_Hawaiian_and_Pacific_Islander  Median_Age    state  \\\n",
      "0                                   183        40.3  Alabama   \n",
      "1                                     0        39.2  Alabama   \n",
      "2                                   160        39.5  Alabama   \n",
      "3                                   677        40.5  Alabama   \n",
      "4                                   206        36.4  Alabama   \n",
      "\n",
      "   Congressional_District  \n",
      "0                       1  \n",
      "1                       3  \n",
      "2                       5  \n",
      "3                       4  \n",
      "4                       7  \n"
     ]
    }
   ],
   "source": [
    "print(census_df.head())"
   ]
  },
  {
   "cell_type": "markdown",
   "metadata": {},
   "source": [
    "## Checking for NAs"
   ]
  },
  {
   "cell_type": "code",
   "execution_count": 4,
   "metadata": {},
   "outputs": [
    {
     "data": {
      "text/plain": [
       "Total_Population                        0\n",
       "African_American                        0\n",
       "White                                   0\n",
       "Asian                                   0\n",
       "Veterans                                0\n",
       "Nonveterans                             0\n",
       "Below_Poverty_Level                     0\n",
       "Median_Household_Income                 0\n",
       "High_School_Graduate                    0\n",
       "Bachelors_Degree_or_Higher              0\n",
       "Households_with_Computers               0\n",
       "Households_with_Internet                0\n",
       "American_Indian_and_Alaska_Native       0\n",
       "Native_Hawaiian_and_Pacific_Islander    0\n",
       "Median_Age                              0\n",
       "state                                   0\n",
       "Congressional_District                  0\n",
       "dtype: int64"
      ]
     },
     "execution_count": 4,
     "metadata": {},
     "output_type": "execute_result"
    }
   ],
   "source": [
    "census_df.isna().sum()"
   ]
  },
  {
   "cell_type": "markdown",
   "metadata": {},
   "source": [
    "## Column Names"
   ]
  },
  {
   "cell_type": "code",
   "execution_count": 5,
   "metadata": {},
   "outputs": [
    {
     "name": "stdout",
     "output_type": "stream",
     "text": [
      "Index(['Total_Population', 'African_American', 'White', 'Asian', 'Veterans',\n",
      "       'Nonveterans', 'Below_Poverty_Level', 'Median_Household_Income',\n",
      "       'High_School_Graduate', 'Bachelors_Degree_or_Higher',\n",
      "       'Households_with_Computers', 'Households_with_Internet',\n",
      "       'American_Indian_and_Alaska_Native',\n",
      "       'Native_Hawaiian_and_Pacific_Islander', 'Median_Age', 'state',\n",
      "       'Congressional_District'],\n",
      "      dtype='object')\n"
     ]
    }
   ],
   "source": [
    "print(census_df.columns)"
   ]
  },
  {
   "cell_type": "markdown",
   "metadata": {},
   "source": [
    "# Data Cleaning: Voting Data\n",
    "\n",
    "Similar to the Census Data, I first wanted to clean up the columns and check if there were any NA values. Due to the heading and split columns names in the raw data, the data was very messy and needed to be cleaned before any other data cleaning could be done. I first renamed the columns from the excel sheet for better understanding."
   ]
  },
  {
   "cell_type": "code",
   "execution_count": 6,
   "metadata": {},
   "outputs": [
    {
     "name": "stderr",
     "output_type": "stream",
     "text": [
      "/Users/iphone10/miniconda3/lib/python3.10/site-packages/openpyxl/worksheet/header_footer.py:48: UserWarning: Cannot parse header or footer so it will be ignored\n",
      "  warn(\"\"\"Cannot parse header or footer so it will be ignored\"\"\")\n"
     ]
    }
   ],
   "source": [
    "vote_df = pd.read_excel('../../data/raw-data/Votes2018.xlsx', skiprows=3)\n",
    "\n",
    "\n",
    "\n",
    "vote_df.columns = [\n",
    "    \"line_number\",\n",
    "    \"state_abbreviation\",\n",
    "    \"state\",\n",
    "    \"Congressional_District\",\n",
    "    \"votes_cast\",\n",
    "    \"citizen_voting_age_population_estimate\",\n",
    "    \"citizen_voting_age_population_moe\",\n",
    "    \"voting_rate_estimate\",\n",
    "    \"voting_rate_moe\"\n",
    "]"
   ]
  },
  {
   "cell_type": "markdown",
   "metadata": {},
   "source": [
    "## Voting DataFrame First 5 Rows"
   ]
  },
  {
   "cell_type": "code",
   "execution_count": 7,
   "metadata": {},
   "outputs": [
    {
     "data": {
      "text/html": [
       "<div>\n",
       "<style scoped>\n",
       "    .dataframe tbody tr th:only-of-type {\n",
       "        vertical-align: middle;\n",
       "    }\n",
       "\n",
       "    .dataframe tbody tr th {\n",
       "        vertical-align: top;\n",
       "    }\n",
       "\n",
       "    .dataframe thead th {\n",
       "        text-align: right;\n",
       "    }\n",
       "</style>\n",
       "<table border=\"1\" class=\"dataframe\">\n",
       "  <thead>\n",
       "    <tr style=\"text-align: right;\">\n",
       "      <th></th>\n",
       "      <th>line_number</th>\n",
       "      <th>state_abbreviation</th>\n",
       "      <th>state</th>\n",
       "      <th>Congressional_District</th>\n",
       "      <th>votes_cast</th>\n",
       "      <th>citizen_voting_age_population_estimate</th>\n",
       "      <th>citizen_voting_age_population_moe</th>\n",
       "      <th>voting_rate_estimate</th>\n",
       "      <th>voting_rate_moe</th>\n",
       "    </tr>\n",
       "  </thead>\n",
       "  <tbody>\n",
       "    <tr>\n",
       "      <th>0</th>\n",
       "      <td>1</td>\n",
       "      <td>AL</td>\n",
       "      <td>Alabama</td>\n",
       "      <td>1</td>\n",
       "      <td>242617.0</td>\n",
       "      <td>544464.0</td>\n",
       "      <td>3424.0</td>\n",
       "      <td>44.560706</td>\n",
       "      <td>0.280231</td>\n",
       "    </tr>\n",
       "    <tr>\n",
       "      <th>1</th>\n",
       "      <td>2</td>\n",
       "      <td>AL</td>\n",
       "      <td>Alabama</td>\n",
       "      <td>2</td>\n",
       "      <td>226230.0</td>\n",
       "      <td>516295.0</td>\n",
       "      <td>5674.0</td>\n",
       "      <td>43.817972</td>\n",
       "      <td>0.481553</td>\n",
       "    </tr>\n",
       "    <tr>\n",
       "      <th>2</th>\n",
       "      <td>3</td>\n",
       "      <td>AL</td>\n",
       "      <td>Alabama</td>\n",
       "      <td>3</td>\n",
       "      <td>231915.0</td>\n",
       "      <td>543854.0</td>\n",
       "      <td>4099.0</td>\n",
       "      <td>42.642878</td>\n",
       "      <td>0.321397</td>\n",
       "    </tr>\n",
       "    <tr>\n",
       "      <th>3</th>\n",
       "      <td>4</td>\n",
       "      <td>AL</td>\n",
       "      <td>Alabama</td>\n",
       "      <td>4</td>\n",
       "      <td>230969.0</td>\n",
       "      <td>515701.0</td>\n",
       "      <td>4678.0</td>\n",
       "      <td>44.787386</td>\n",
       "      <td>0.406273</td>\n",
       "    </tr>\n",
       "    <tr>\n",
       "      <th>4</th>\n",
       "      <td>5</td>\n",
       "      <td>AL</td>\n",
       "      <td>Alabama</td>\n",
       "      <td>5</td>\n",
       "      <td>260673.0</td>\n",
       "      <td>551968.0</td>\n",
       "      <td>2121.0</td>\n",
       "      <td>47.226107</td>\n",
       "      <td>0.181472</td>\n",
       "    </tr>\n",
       "  </tbody>\n",
       "</table>\n",
       "</div>"
      ],
      "text/plain": [
       "  line_number state_abbreviation    state Congressional_District  votes_cast  \\\n",
       "0           1                 AL  Alabama                      1    242617.0   \n",
       "1           2                 AL  Alabama                      2    226230.0   \n",
       "2           3                 AL  Alabama                      3    231915.0   \n",
       "3           4                 AL  Alabama                      4    230969.0   \n",
       "4           5                 AL  Alabama                      5    260673.0   \n",
       "\n",
       "   citizen_voting_age_population_estimate  citizen_voting_age_population_moe  \\\n",
       "0                                544464.0                             3424.0   \n",
       "1                                516295.0                             5674.0   \n",
       "2                                543854.0                             4099.0   \n",
       "3                                515701.0                             4678.0   \n",
       "4                                551968.0                             2121.0   \n",
       "\n",
       "   voting_rate_estimate  voting_rate_moe  \n",
       "0             44.560706         0.280231  \n",
       "1             43.817972         0.481553  \n",
       "2             42.642878         0.321397  \n",
       "3             44.787386         0.406273  \n",
       "4             47.226107         0.181472  "
      ]
     },
     "execution_count": 7,
     "metadata": {},
     "output_type": "execute_result"
    }
   ],
   "source": [
    "vote_df.head()"
   ]
  },
  {
   "cell_type": "markdown",
   "metadata": {},
   "source": [
    "## Checking for NAs"
   ]
  },
  {
   "cell_type": "code",
   "execution_count": 8,
   "metadata": {},
   "outputs": [
    {
     "data": {
      "text/plain": [
       "line_number                                4\n",
       "state_abbreviation                        11\n",
       "state                                     11\n",
       "Congressional_District                    11\n",
       "votes_cast                                11\n",
       "citizen_voting_age_population_estimate    11\n",
       "citizen_voting_age_population_moe         11\n",
       "voting_rate_estimate                      11\n",
       "voting_rate_moe                           11\n",
       "dtype: int64"
      ]
     },
     "execution_count": 8,
     "metadata": {},
     "output_type": "execute_result"
    }
   ],
   "source": [
    "\n",
    "vote_df.isna().sum()\n"
   ]
  },
  {
   "cell_type": "code",
   "execution_count": 9,
   "metadata": {},
   "outputs": [
    {
     "name": "stdout",
     "output_type": "stream",
     "text": [
      "                                           line_number state_abbreviation  \\\n",
      "436                                                NaN                NaN   \n",
      "437                                                NaN                NaN   \n",
      "438                                             Notes:                NaN   \n",
      "439  - Congressional districts 10, 14, 21, and 24 i...                NaN   \n",
      "440  1 Votes as collected by state election offices...                NaN   \n",
      "\n",
      "    state Congressional_District  votes_cast  \\\n",
      "436   NaN                    NaN         NaN   \n",
      "437   NaN                    NaN         NaN   \n",
      "438   NaN                    NaN         NaN   \n",
      "439   NaN                    NaN         NaN   \n",
      "440   NaN                    NaN         NaN   \n",
      "\n",
      "     citizen_voting_age_population_estimate  \\\n",
      "436                                     NaN   \n",
      "437                                     NaN   \n",
      "438                                     NaN   \n",
      "439                                     NaN   \n",
      "440                                     NaN   \n",
      "\n",
      "     citizen_voting_age_population_moe  voting_rate_estimate  voting_rate_moe  \n",
      "436                                NaN                   NaN              NaN  \n",
      "437                                NaN                   NaN              NaN  \n",
      "438                                NaN                   NaN              NaN  \n",
      "439                                NaN                   NaN              NaN  \n",
      "440                                NaN                   NaN              NaN  \n"
     ]
    }
   ],
   "source": [
    "rows_with_na = vote_df[vote_df.isna().any(axis=1)]\n",
    "\n",
    "# Display rows with NA values\n",
    "print((rows_with_na).head())"
   ]
  },
  {
   "cell_type": "markdown",
   "metadata": {},
   "source": [
    "The **NA values** in the data are due to metadata:  \n",
    "\n",
    "- \"**Florida**: Congressional districts **10, 14, 21, and 24** did not report vote totals because state law prohibits unopposed candidates from appearing on the ballot.\" (U.S. Census Bureau) \n",
    "- \"**North Carolina**: District **9** did not report vote totals due to a new election ordered by the state’s Board of Elections in **February 2019**.\" ( U.S. Census Bureau)\n",
    "\n",
    " *(Source: U.S. Census Bureau)*  "
   ]
  },
  {
   "cell_type": "code",
   "execution_count": 10,
   "metadata": {},
   "outputs": [
    {
     "data": {
      "image/png": "[encoded data removed]",
      "text/plain": [
       "<Figure size 640x480 with 1 Axes>"
      ]
     },
     "metadata": {},
     "output_type": "display_data"
    }
   ],
   "source": [
    "import matplotlib.pyplot as plt\n",
    "\n",
    "# Remove rows where 'votes_cast' is NaN\n",
    "vote_df = vote_df[vote_df['votes_cast'].notna()]\n",
    "\n",
    "# Ensure there are valid values to plot\n",
    "\n",
    "vote_df['votes_cast'].plot(kind='hist', bins=20, alpha=0.7)\n",
    "plt.title(\"Distribution of Votes Cast\")\n",
    "plt.xlabel(\"Votes Cast\")\n",
    "plt.ylabel(\"Frequency\")\n",
    "plt.show()"
   ]
  },
  {
   "cell_type": "markdown",
   "metadata": {},
   "source": [
    "\n",
    "When plotting the data to check for outliers, there showed 5 districts where zero votes were cast. \n",
    "\n",
    "This is what the metadata had stated, with districts 10, 14, 21, and 24 in Florida and district 9 in North Carolina not reporting votes. \n",
    "\n",
    "## Handling Missing Values\n",
    "\n",
    "![](./images/messed_up.png)\n",
    "\n",
    "\n",
    "\n",
    "In the process of cleaing, I noticed that states that only contained 1 Congressional District were labeled as “At-large” as opposed to 1, 2, etc, as seen with Delaware and District of Columbia . I utilized code to convert these into ‘1’ for data homogeneity. \n",
    "\n",
    "\n",
    "\n",
    "## Handling Outliers\n",
    "\n",
    "Similar to the **census_data**, I believed that removing outliers could result in the loss of valuable insights. However, I felt it was necessary to **examine the distribution** of features that I believe are key contributors to **Voting Rate**.\n",
    "\n",
    "I also decided to **drop the columns**:  \n",
    "- `\"line_number\"`  \n",
    "- `\"citizen_voting_age_population_moe\"`  \n",
    "- `\"voting_rate_moe\"`  \n",
    "\n",
    "These columns were removed as they may interfere with further analysis down the road.  \n",
    "\n",
    "## Visual\n",
    "\n",
    "### Distribution of Household Income\n"
   ]
  },
  {
   "cell_type": "code",
   "execution_count": 11,
   "metadata": {},
   "outputs": [
    {
     "data": {
      "image/png": "[encoded data removed]",
      "text/plain": [
       "<Figure size 640x480 with 1 Axes>"
      ]
     },
     "metadata": {},
     "output_type": "display_data"
    }
   ],
   "source": [
    "import matplotlib.pyplot as plt\n",
    "census_df.boxplot(column='Median_Household_Income', vert=False)\n",
    "plt.show()"
   ]
  },
  {
   "cell_type": "markdown",
   "metadata": {},
   "source": [
    "### Distribution of White"
   ]
  },
  {
   "cell_type": "code",
   "execution_count": 12,
   "metadata": {},
   "outputs": [
    {
     "data": {
      "image/png": "[encoded data removed]",
      "text/plain": [
       "<Figure size 640x480 with 1 Axes>"
      ]
     },
     "metadata": {},
     "output_type": "display_data"
    }
   ],
   "source": [
    "import matplotlib.pyplot as plt\n",
    "census_df.boxplot(column='White', vert=False)\n",
    "plt.show()"
   ]
  },
  {
   "cell_type": "markdown",
   "metadata": {},
   "source": [
    "### Distribution of Poverty Level"
   ]
  },
  {
   "cell_type": "code",
   "execution_count": 13,
   "metadata": {},
   "outputs": [
    {
     "data": {
      "image/png": "[encoded data removed]",
      "text/plain": [
       "<Figure size 640x480 with 1 Axes>"
      ]
     },
     "metadata": {},
     "output_type": "display_data"
    }
   ],
   "source": [
    "import matplotlib.pyplot as plt\n",
    "census_df.boxplot(column='Below_Poverty_Level', vert=False)\n",
    "plt.show()"
   ]
  },
  {
   "cell_type": "markdown",
   "metadata": {},
   "source": [
    "### Distribution of African American"
   ]
  },
  {
   "cell_type": "code",
   "execution_count": 14,
   "metadata": {},
   "outputs": [
    {
     "data": {
      "image/png": "[encoded data removed]",
      "text/plain": [
       "<Figure size 640x480 with 1 Axes>"
      ]
     },
     "metadata": {},
     "output_type": "display_data"
    }
   ],
   "source": [
    "import matplotlib.pyplot as plt\n",
    "census_df.boxplot(column='African_American', vert=False)\n",
    "plt.show()"
   ]
  },
  {
   "cell_type": "markdown",
   "metadata": {},
   "source": [
    " After exploring the data through plots and statistics, I realized that although there were some variables that were skewed, it was not in best practice to completely omit them, as this could be a key indicator of voter turnout (Urban vs rural, socioeconomic standing, small districts vs big districts). \n",
    "\n",
    "## Standardization\n",
    "\n",
    " I chose to use standardization instead of omitting outliers to prepare data for further analysis. I made a copy of the original data frame to maintain for testing and comparison, and then called StandardScalar from SKLearn to fit the numeric values of the dataset. After doing so, the mean of every variable is 0, with a standard deviation of 1.\n",
    "\n",
    " In the Census Dataframe, I chose all columns that were numerical values. In the Votes Data frame, I chose all numerical values as well, including voting rate. Even though voting_rate already on a standardized scale (out of 100), to maintain data homogeneity and not let algorithms treat them differently I chose it was best to standardize this variable as well."
   ]
  },
  {
   "cell_type": "code",
   "execution_count": 15,
   "metadata": {},
   "outputs": [
    {
     "name": "stdout",
     "output_type": "stream",
     "text": [
      "   Total_Population  African_American     White     Asian  Veterans  \\\n",
      "0         -0.314384          0.970773 -0.432776 -0.601424  0.673281   \n",
      "1         -0.368058          0.846057 -0.359566 -0.555218  0.662215   \n",
      "2         -0.234783          0.334971 -0.035131 -0.571129  0.932348   \n",
      "3         -0.539144         -0.433469  0.304326 -0.745557 -0.139884   \n",
      "4         -0.738990          3.090763 -2.146664 -0.708642 -0.485158   \n",
      "\n",
      "   Nonveterans  Below_Poverty_Level  Median_Household_Income  \\\n",
      "0    -0.416259             0.287950                -1.002315   \n",
      "1    -0.413525             0.364380                -1.036189   \n",
      "2    -0.313431            -0.104054                -0.409433   \n",
      "3    -0.499317             0.290117                -1.060779   \n",
      "4    -0.592962             0.825080                -1.517445   \n",
      "\n",
      "   High_School_Graduate  Bachelors_Degree_or_Higher  \\\n",
      "0              0.624607                   -0.621344   \n",
      "1              0.288741                   -1.086251   \n",
      "2             -0.092022                    0.143164   \n",
      "3              0.498187                   -1.343062   \n",
      "4              0.200776                   -1.227932   \n",
      "\n",
      "   Households_with_Computers  Households_with_Internet  \\\n",
      "0                  -0.440646                 -0.695362   \n",
      "1                  -0.592771                 -0.832347   \n",
      "2                   0.130768                  0.129174   \n",
      "3                  -0.980536                 -1.082058   \n",
      "4                  -1.309372                 -1.489806   \n",
      "\n",
      "   American_Indian_and_Alaska_Native  Native_Hawaiian_and_Pacific_Islander  \\\n",
      "0                           0.037155                             -0.234352   \n",
      "1                          -0.332663                             -0.268624   \n",
      "2                          -0.214220                             -0.238660   \n",
      "3                          -0.131836                             -0.141838   \n",
      "4                          -0.293226                             -0.230045   \n",
      "\n",
      "   Median_Age    state  Congressional_District  \n",
      "0    0.464422  Alabama                       1  \n",
      "1    0.162491  Alabama                       3  \n",
      "2    0.244836  Alabama                       5  \n",
      "3    0.519318  Alabama                       4  \n",
      "4   -0.606060  Alabama                       7  \n"
     ]
    }
   ],
   "source": [
    "from sklearn.preprocessing import StandardScaler\n",
    "\n",
    "# Define columns to standardize\n",
    "columns_to_standardize = ['votes_cast', 'citizen_voting_age_population_estimate', 'voting_rate_estimate']\n",
    "\n",
    "# Select numerical columns for standardization\n",
    "numerical_cols = ['Total_Population', 'African_American', 'White', 'Asian', 'Veterans', \n",
    "                  'Nonveterans', 'Below_Poverty_Level', 'High_School_Graduate', \n",
    "                  \"Bachelors_Degree_or_Higher\", \"Households_with_Computers\",\n",
    "                  \"Households_with_Internet\", \"American_Indian_and_Alaska_Native\", \n",
    "                  \"Native_Hawaiian_and_Pacific_Islander\", \"Median_Household_Income\", \"Median_Age\"]\n",
    "\n",
    "# Make a copy of census_df\n",
    "census_standard_df = census_df.copy()\n",
    "\n",
    "# Initialize StandardScaler\n",
    "scaler = StandardScaler()\n",
    "\n",
    "# Standardize the numerical columns\n",
    "census_standard_df[numerical_cols] = scaler.fit_transform(census_standard_df[numerical_cols])\n",
    "\n",
    "# Check the first few rows to confirm scaling\n",
    "print(census_standard_df.head())\n",
    "\n",
    "# Initialize StandardScaler for vote_df\n",
    "scaler = StandardScaler()\n",
    "\n",
    "vote_standard_df = vote_df.copy()\n",
    "\n",
    "vote_standard_df[columns_to_standardize] = scaler.fit_transform(vote_standard_df[columns_to_standardize])"
   ]
  },
  {
   "cell_type": "markdown",
   "metadata": {},
   "source": [
    "# Merging \n",
    "\n",
    "I merged the two datasets using an **inner join** with `\"state\"` and `\"Congressional_district\"` as keys. For compatibility, I converted both `\"Congressional_district\"` columns in each DataFrame to **strings**.\n",
    "\n",
    "The resulting DataFrames:  \n",
    "- `merged_df`  \n",
    "- `merged_standard_df`  \n",
    "\n",
    "were then exported to the **processed data** folder.  "
   ]
  },
  {
   "cell_type": "code",
   "execution_count": 16,
   "metadata": {},
   "outputs": [],
   "source": [
    "# Convert Congressional_District to string in both DataFrames\n",
    "census_df['Congressional_District'] = census_df['Congressional_District'].astype(str)\n",
    "vote_df['Congressional_District'] = vote_df['Congressional_District'].astype(str)\n",
    "census_standard_df['Congressional_District'] = census_standard_df['Congressional_District'].astype(str)\n",
    "vote_standard_df['Congressional_District'] = vote_standard_df['Congressional_District'].astype(str)\n",
    "\n",
    "# Merge the datasets\n",
    "merged_df = census_df.merge(vote_df, on=['state', 'Congressional_District'], how='inner')\n",
    "merged_standard_df = census_standard_df.merge(vote_standard_df, on=['state', 'Congressional_District'], how='inner')"
   ]
  },
  {
   "cell_type": "markdown",
   "metadata": {},
   "source": [
    "## Merged DataFrame Column Names"
   ]
  },
  {
   "cell_type": "code",
   "execution_count": 17,
   "metadata": {},
   "outputs": [
    {
     "name": "stdout",
     "output_type": "stream",
     "text": [
      "Index(['Total_Population', 'African_American', 'White', 'Asian', 'Veterans',\n",
      "       'Nonveterans', 'Below_Poverty_Level', 'Median_Household_Income',\n",
      "       'High_School_Graduate', 'Bachelors_Degree_or_Higher',\n",
      "       'Households_with_Computers', 'Households_with_Internet',\n",
      "       'American_Indian_and_Alaska_Native',\n",
      "       'Native_Hawaiian_and_Pacific_Islander', 'Median_Age', 'state',\n",
      "       'Congressional_District', 'line_number', 'state_abbreviation',\n",
      "       'votes_cast', 'citizen_voting_age_population_estimate',\n",
      "       'citizen_voting_age_population_moe', 'voting_rate_estimate',\n",
      "       'voting_rate_moe'],\n",
      "      dtype='object')\n"
     ]
    }
   ],
   "source": [
    "print(merged_df.columns)"
   ]
  },
  {
   "cell_type": "markdown",
   "metadata": {},
   "source": [
    "---\n",
    "\n",
    "# References\n",
    "\n",
    "U.S. Census Bureau. Number of Votes Cast, Citizen Voting-Age Population and Voting Rates for Congressional Districts: 2018. U.S. Census Bureau, 2019, https://www.census.gov/data/tables/time-series/demo/voting-and-registration/congressional-voting-tables.html."
   ]
  },
  {
   "cell_type": "code",
   "execution_count": null,
   "metadata": {},
   "outputs": [],
   "source": []
  },
  {
   "cell_type": "code",
   "execution_count": null,
   "metadata": {},
   "outputs": [],
   "source": []
  },
  {
   "cell_type": "code",
   "execution_count": null,
   "metadata": {},
   "outputs": [],
   "source": []
  },
  {
   "cell_type": "code",
   "execution_count": null,
   "metadata": {},
   "outputs": [],
   "source": []
  }
 ],
 "metadata": {
  "kernelspec": {
   "display_name": "base",
   "language": "python",
   "name": "python3"
  },
  "language_info": {
   "codemirror_mode": {
    "name": "ipython",
    "version": 3
   },
   "file_extension": ".py",
   "mimetype": "text/x-python",
   "name": "python",
   "nbconvert_exporter": "python",
   "pygments_lexer": "ipython3",
   "version": "3.10.10"
  }
 },
 "nbformat": 4,
 "nbformat_minor": 2
}
